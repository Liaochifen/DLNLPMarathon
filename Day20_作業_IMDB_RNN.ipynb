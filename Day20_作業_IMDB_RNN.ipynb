{
 "cells": [
  {
   "cell_type": "markdown",
   "metadata": {
    "id": "q0y1IFdUh5zs"
   },
   "source": [
    "#  作業: 使用 LSTM 做文本情感分析"
   ]
  },
  {
   "cell_type": "markdown",
   "metadata": {
    "id": "5d9-7dY6rjbe"
   },
   "source": [
    "## [作業目標]\n",
    "\n",
    "*   使用 Pytorch 提供的 LSTM 方法來做情感(情緒)的分析\n",
    "*   期望達到不錯的準確度，84% 以上"
   ]
  },
  {
   "cell_type": "markdown",
   "metadata": {
    "id": "0d6gKxOKETRU"
   },
   "source": [
    "## [作業重點]\n",
    "\n",
    "*   學會使用 torchtext dataset 來使用 IMDB 資料集\n",
    "*   搭建 LSTM 網路\n",
    "\n"
   ]
  },
  {
   "cell_type": "markdown",
   "metadata": {
    "id": "WtKPzAnqh5zs"
   },
   "source": [
    "## 準備資料\n",
    "\n",
    "torchtext 包含以下 components：\n",
    "\n",
    "Field : 主要包含以下數據預處理的配置信息：指定分詞方法、是否轉成小寫、起始符號、以及字典等等。\n",
    "\n",
    "Dataset : 用於下載數據，也提供 splits 方法可以同時下載訓練資料、驗證資料和測試資料。\n",
    "\n",
    "Iterator : 數據讀取的迭代器，可以支持 batch\n",
    "\n",
    "我們定義 SEED、TEXT 和 LABEL 三個變數來隨機把資料集分割成 train/valid/test 三個資料集。\n",
    "\n"
   ]
  },
  {
   "cell_type": "code",
   "execution_count": 1,
   "metadata": {
    "scrolled": true
   },
   "outputs": [],
   "source": [
    "import torch\n",
    "import torch.nn as nn\n",
    "from collections import Counter\n",
    "from torch.utils.data import DataLoader\n",
    "from torch.utils.data.dataset import random_split\n",
    "from torchtext.datasets import IMDB\n",
    "from torchtext.data.utils import get_tokenizer\n",
    "from torchtext.vocab import Vocab\n",
    "from torch.nn.utils.rnn import pad_sequence"
   ]
  },
  {
   "cell_type": "code",
   "execution_count": 2,
   "metadata": {},
   "outputs": [],
   "source": [
    "train_dataset, test_dataset = IMDB(split=('train', 'test'))\n",
    "train_dataset = list(train_dataset)\n",
    "num_train = int(len(train_dataset) * 0.8)\n",
    "train_dataset, valid_dataset = random_split(train_dataset, [num_train, len(train_dataset) - num_train])\n",
    "tokenizer = get_tokenizer(\"spacy\", language=\"en_core_web_sm\")"
   ]
  },
  {
   "cell_type": "code",
   "execution_count": 3,
   "metadata": {},
   "outputs": [],
   "source": [
    "MAX_VOCAB_SIZE = 25_000\n",
    "counter = Counter()\n",
    "for (label, line) in train_dataset:\n",
    "    counter.update(tokenizer(line))\n",
    "    \n",
    "vocab = Vocab(counter, \n",
    "              max_size=MAX_VOCAB_SIZE, \n",
    "              vectors=\"glove.6B.100d\", \n",
    "              unk_init = torch.Tensor.normal_, \n",
    "              specials=('<unk>', '<BOS>', '<EOS>', '<PAD>'))"
   ]
  },
  {
   "cell_type": "code",
   "execution_count": 4,
   "metadata": {},
   "outputs": [],
   "source": [
    "text_transform = lambda x: [vocab['<BOS>']] + [vocab[token] for token in tokenizer(x)] + [vocab['<EOS>']]\n",
    "label_transform = lambda x: 1 if x == 'pos' else 0\n",
    "device = torch.device(\"cuda\" if torch.cuda.is_available() else \"cpu\")\n",
    "BATCH_SIZE = 64\n",
    "\n",
    "def collate_batch(batch):\n",
    "    label_list, text_list, offsets = [], [], []\n",
    "    for (_label, _text) in batch:\n",
    "        label_list.append(label_transform(_label))\n",
    "        \n",
    "        processed_text = torch.tensor(text_transform(_text))\n",
    "        text_list.append(processed_text)\n",
    "        \n",
    "        offsets.append(processed_text.size(0))\n",
    "\n",
    "    \n",
    "    sorted_idx = sorted(range(len(offsets)), key=lambda x: offsets[x], reverse=True)\n",
    "    label_list = torch.tensor(label_list)[sorted_idx]\n",
    "    text_list = pad_sequence(text_list, padding_value=3.0)[:, sorted_idx]\n",
    "    offsets = torch.tensor(offsets)[sorted_idx]\n",
    "    \n",
    "    return label_list.to(device), text_list.to(device), offsets.to(device)\n",
    "\n",
    "train_dataloader = DataLoader(list(train_dataset), batch_size=BATCH_SIZE, shuffle=False, \n",
    "                              collate_fn=collate_batch)"
   ]
  },
  {
   "cell_type": "markdown",
   "metadata": {
    "id": "5im_3jPuh5zs"
   },
   "source": [
    "## 下載並讀取資料\n",
    "\n",
    "torchtext 的 datasets 集合裡面就有 IMDB 資料，直接就可以讀取訓練以及測試資料了。"
   ]
  },
  {
   "cell_type": "code",
   "execution_count": null,
   "metadata": {
    "colab": {
     "base_uri": "https://localhost:8080/"
    },
    "executionInfo": {
     "elapsed": 109664,
     "status": "ok",
     "timestamp": 1610966421652,
     "user": {
      "displayName": "TJ Huang",
      "photoUrl": "https://lh3.googleusercontent.com/a-/AOh14GhD8ZNogaI1a7JvaPCP0sixRAUqrNuHydZOR0qLPQ=s64",
      "userId": "07122505407861381538"
     },
     "user_tz": -480
    },
    "id": "RQBm1Pihh5zs",
    "outputId": "5c3537bd-9422-41af-aef9-82bd1b09a260"
   },
   "outputs": [
    {
     "name": "stdout",
     "output_type": "stream",
     "text": [
      "downloading aclImdb_v1.tar.gz\n"
     ]
    },
    {
     "name": "stderr",
     "output_type": "stream",
     "text": [
      "aclImdb_v1.tar.gz: 100%|██████████| 84.1M/84.1M [00:08<00:00, 9.66MB/s]\n"
     ]
    }
   ],
   "source": [
    "train_data, test_data = datasets.IMDB.splits(TEXT, LABEL)"
   ]
  },
  {
   "cell_type": "markdown",
   "metadata": {
    "id": "lg3dDAnvh5zs"
   },
   "source": [
    "\n",
    "## 從訓練資料裡面切割驗證資料\n",
    "\n",
    "從訓練資料裡面抓取一些資料當作 validation set"
   ]
  },
  {
   "cell_type": "code",
   "execution_count": null,
   "metadata": {
    "id": "LJ3m5a4jh5zs"
   },
   "outputs": [],
   "source": [
    "import random\n",
    "\n",
    "train_data, valid_data = train_data.split(random_state = random.seed(SEED))"
   ]
  },
  {
   "cell_type": "markdown",
   "metadata": {
    "id": "4rt_o8fRh5zs"
   },
   "source": [
    "# 建立字典\n",
    "\n",
    "接下來是使用預訓練的 word embeddings。只要呼叫 TorchText 的 build_vocab 就可以把所有的文字向量化, 我們使用的是 \"glove.6B.100d\" 的向量，glove 是一個用來計算詞向量的演算法。6B 是指這些詞向量是用了60億個tokens訓練出來的，而 100d 是指每一個向量的維度是 100。"
   ]
  },
  {
   "cell_type": "code",
   "execution_count": null,
   "metadata": {
    "colab": {
     "base_uri": "https://localhost:8080/"
    },
    "executionInfo": {
     "elapsed": 537753,
     "status": "ok",
     "timestamp": 1610966849749,
     "user": {
      "displayName": "TJ Huang",
      "photoUrl": "https://lh3.googleusercontent.com/a-/AOh14GhD8ZNogaI1a7JvaPCP0sixRAUqrNuHydZOR0qLPQ=s64",
      "userId": "07122505407861381538"
     },
     "user_tz": -480
    },
    "id": "Y855ENTLh5zs",
    "outputId": "85da1e4e-ef4b-4913-8f32-425de639db91"
   },
   "outputs": [
    {
     "name": "stderr",
     "output_type": "stream",
     "text": [
      ".vector_cache/glove.6B.zip: 862MB [06:30, 2.21MB/s]                           \n",
      "100%|█████████▉| 399792/400000 [00:16<00:00, 24719.79it/s]"
     ]
    }
   ],
   "source": [
    "MAX_VOCAB_SIZE = 25_000\n",
    "\n",
    "TEXT.build_vocab(train_data, \n",
    "                 max_size = MAX_VOCAB_SIZE, \n",
    "                 vectors = \"glove.6B.100d\",\n",
    "                 unk_init = torch.Tensor.normal_)\n",
    "\n",
    "LABEL.build_vocab(train_data)"
   ]
  },
  {
   "cell_type": "markdown",
   "metadata": {
    "id": "KTJfJYW_h5zs"
   },
   "source": [
    "## 建立Iterator\n",
    "\n",
    "Iterator 是 torchtext 到模型的輸出，提供了對數據的打亂、排序等等處理方法。可以動態修改 batch size這裡使用 splits method 來同時輸出訓練集、驗證集以及測試集。\n",
    "\n",
    "如果有 GPU 的話則使用 cuda 來做運算。\n",
    "\n",
    "`sort_within_batch = True` 是表示在每一個 batch 裡面的 tensors 是依照長度排序的。"
   ]
  },
  {
   "cell_type": "code",
   "execution_count": null,
   "metadata": {
    "id": "KqCebFvAh5zs"
   },
   "outputs": [],
   "source": [
    "BATCH_SIZE = 64\n",
    "\n",
    "train_iterator, valid_iterator, test_iterator = data.BucketIterator.splits(\n",
    "    (train_data, valid_data, test_data), \n",
    "    batch_size = BATCH_SIZE,\n",
    "    sort_within_batch = True,\n",
    "    device = device)"
   ]
  },
  {
   "cell_type": "markdown",
   "metadata": {
    "id": "yGpIKauzh5zs"
   },
   "source": [
    "# 建立 LSTM 模型\n",
    "我們將使用 pytorch 內建的 RNN 架構是 LSTM (Long Short-Term Memory)模型。它的公式如下：\n",
    "\n",
    "$(h_t, c_t) = \\text{LSTM}(x_t, h_t, c_t)$\n",
    "\n",
    "\n",
    "步驟解釋：\n",
    "\n",
    "1. 在模型裡，每個詞會先通過 embedding layer 的到特徵向量\n",
    "2. 然後我們使用 LSTM 對特徵序列進一步編碼得到序列信息。\n",
    "3. 將編碼後的序列信息通過全連接層(Fully connectivity layer)得到輸出。\n",
    "\n",
    "\n"
   ]
  },
  {
   "cell_type": "code",
   "execution_count": 18,
   "metadata": {
    "id": "hjCYAR_Eh5zs"
   },
   "outputs": [],
   "source": [
    "class LSTM(nn.Module):\n",
    "    def __init__(self, vocab_size, embedding_dim, hidden_dim, output_dim, n_layers, \n",
    "                 bidirectional, dropout, pad_idx):\n",
    "        \n",
    "        super().__init__()\n",
    "        \n",
    "        self.embedding = nn.Embedding(vocab_size, embedding_dim, padding_idx = pad_idx)\n",
    "        \n",
    "        self.rnn = nn.LSTM(embedding_dim, \n",
    "                           hidden_dim, \n",
    "                           num_layers=n_layers, \n",
    "                           bidirectional=bidirectional, \n",
    "                           dropout=dropout)\n",
    "        \n",
    "        self.fc = nn.Linear(hidden_dim * 2, output_dim)\n",
    "        \n",
    "        self.dropout = nn.Dropout(dropout)\n",
    "        \n",
    "    def forward(self, texts, text_lengths):\n",
    "        # texts = [sent len, batch size]\n",
    "        \n",
    "        embedded = self.dropout(self.embedding(texts))\n",
    "        # embedded = [sent len, batch size, emb dim]\n",
    "        \n",
    "        # pack sequence\n",
    "        packed_embedded = nn.utils.rnn.pack_padded_sequence(embedded, text_lengths.cpu())\n",
    "        packed_output, (hidden, cell) = self.rnn(packed_embedded)\n",
    "#         packed_output, (hidden, cell) = self.rnn(embedded)\n",
    "        \n",
    "        #unpack sequence\n",
    "        output, output_lengths = nn.utils.rnn.pad_packed_sequence(packed_output)\n",
    "\n",
    "        #output = [sent len, batch size, hid dim * num directions]\n",
    "        #output over padding tokens are zero tensors\n",
    "        \n",
    "        #hidden = [num layers * num directions, batch size, hid dim]\n",
    "        #cell = [num layers * num directions, batch size, hid dim]\n",
    "        \n",
    "        #concat the final forward (hidden[-2,:,:]) and backward (hidden[-1,:,:]) hidden layers\n",
    "        #and apply dropout\n",
    "        \n",
    "        hidden = self.dropout(torch.cat((hidden[-2,:,:], hidden[-1,:,:]), dim = 1))\n",
    "                \n",
    "        #hidden = [batch size, hid dim * num directions]\n",
    "            \n",
    "        return self.fc(hidden)"
   ]
  },
  {
   "cell_type": "markdown",
   "metadata": {
    "id": "4s7IySNeh5zs"
   },
   "source": [
    "\n",
    "# LSTM 模型參數說明\n",
    "\n",
    "1. vocab_size: 輸入層的維度(input dim)\n",
    "2. embedding_dim: 詞向量的維度, 我們使用的是 glove.6B.100d, 所以這裡 embedding_dim 是 100\n",
    "3. hidden_dim: the size of the hidden states\n",
    "4. output_dim: 輸出層的維度\n",
    "5. n_layers: 有幾層全連結層\n",
    "6. bidirectional: 是否使用雙向 RNN\n",
    "7. dropout： dropout 的比例\n",
    "8. pad_idx: token <pad> 的 index\n"
   ]
  },
  {
   "cell_type": "code",
   "execution_count": 19,
   "metadata": {
    "id": "0nRixhDvh5zs"
   },
   "outputs": [],
   "source": [
    "INPUT_DIM = len(vocab)\n",
    "EMBEDDING_DIM = 100\n",
    "HIDDEN_DIM = 256\n",
    "OUTPUT_DIM = 1\n",
    "N_LAYERS = 2\n",
    "BIDIRECTIONAL = False\n",
    "DROPOUT = 0.5\n",
    "PAD_IDX = vocab.stoi['<PAD>']\n",
    "\n",
    "model = LSTM(INPUT_DIM, \n",
    "             EMBEDDING_DIM, \n",
    "             HIDDEN_DIM, \n",
    "             OUTPUT_DIM, \n",
    "             N_LAYERS, \n",
    "             BIDIRECTIONAL, \n",
    "             DROPOUT,\n",
    "             PAD_IDX)"
   ]
  },
  {
   "cell_type": "markdown",
   "metadata": {
    "id": "FpYQJmGih5zs"
   },
   "source": [
    "印出我們模型的參數量"
   ]
  },
  {
   "cell_type": "code",
   "execution_count": 20,
   "metadata": {
    "colab": {
     "base_uri": "https://localhost:8080/"
    },
    "executionInfo": {
     "elapsed": 1541,
     "status": "ok",
     "timestamp": 1610968413104,
     "user": {
      "displayName": "TJ Huang",
      "photoUrl": "https://lh3.googleusercontent.com/a-/AOh14GhD8ZNogaI1a7JvaPCP0sixRAUqrNuHydZOR0qLPQ=s64",
      "userId": "07122505407861381538"
     },
     "user_tz": -480
    },
    "id": "clRTL5Hih5zs",
    "outputId": "e19aee57-d4b6-4441-82ee-e6f8003e9171"
   },
   "outputs": [
    {
     "name": "stdout",
     "output_type": "stream",
     "text": [
      "The model has 3,393,841 trainable parameters\n"
     ]
    }
   ],
   "source": [
    "def count_parameters(model):\n",
    "    return sum(p.numel() for p in model.parameters() if p.requires_grad)\n",
    "\n",
    "print(f'The model has {count_parameters(model):,} trainable parameters')"
   ]
  },
  {
   "cell_type": "markdown",
   "metadata": {
    "id": "iBc7QkGjh5zt"
   },
   "source": [
    "\n",
    "檢查 embedding 的字典大小以及 embedding 的維度\n",
    "\n",
    "_**[vocab size, embedding dim]**_ \n"
   ]
  },
  {
   "cell_type": "code",
   "execution_count": 21,
   "metadata": {
    "colab": {
     "base_uri": "https://localhost:8080/"
    },
    "executionInfo": {
     "elapsed": 1536,
     "status": "ok",
     "timestamp": 1610968413105,
     "user": {
      "displayName": "TJ Huang",
      "photoUrl": "https://lh3.googleusercontent.com/a-/AOh14GhD8ZNogaI1a7JvaPCP0sixRAUqrNuHydZOR0qLPQ=s64",
      "userId": "07122505407861381538"
     },
     "user_tz": -480
    },
    "id": "1k7sY2aCh5zt",
    "outputId": "8544e020-a652-4c14-82d3-66e24900afed"
   },
   "outputs": [
    {
     "name": "stdout",
     "output_type": "stream",
     "text": [
      "torch.Size([25004, 100])\n"
     ]
    }
   ],
   "source": [
    "pretrained_embeddings = vocab.vectors\n",
    "\n",
    "print(pretrained_embeddings.shape)"
   ]
  },
  {
   "cell_type": "markdown",
   "metadata": {
    "id": "j2BPDdj-h5zt"
   },
   "source": [
    "用 pre-trained embeddings 來當作 `embedding` 層的初始化參數\n"
   ]
  },
  {
   "cell_type": "code",
   "execution_count": 22,
   "metadata": {
    "colab": {
     "base_uri": "https://localhost:8080/"
    },
    "executionInfo": {
     "elapsed": 1530,
     "status": "ok",
     "timestamp": 1610968413105,
     "user": {
      "displayName": "TJ Huang",
      "photoUrl": "https://lh3.googleusercontent.com/a-/AOh14GhD8ZNogaI1a7JvaPCP0sixRAUqrNuHydZOR0qLPQ=s64",
      "userId": "07122505407861381538"
     },
     "user_tz": -480
    },
    "id": "BUZmehuKh5zt",
    "outputId": "e228cb85-69bd-4cf9-ec98-2dff75d2b728"
   },
   "outputs": [
    {
     "data": {
      "text/plain": [
       "tensor([[-0.3468,  1.6935, -0.3396,  ..., -1.2053, -1.0053,  0.5087],\n",
       "        [ 0.6993,  0.9608, -0.1237,  ..., -0.4092, -0.1714,  0.1223],\n",
       "        [ 0.8924, -1.1152,  0.3397,  ...,  1.2010, -1.6431, -0.8182],\n",
       "        ...,\n",
       "        [-0.7534,  0.5285,  0.0846,  ...,  0.1060,  1.1946,  0.3946],\n",
       "        [ 0.4887, -0.5067, -0.3668,  ..., -0.7558, -0.0531,  0.0707],\n",
       "        [ 0.6262, -1.1699,  0.7505,  ..., -0.2259,  0.2730,  0.7792]])"
      ]
     },
     "execution_count": 22,
     "metadata": {},
     "output_type": "execute_result"
    }
   ],
   "source": [
    "model.embedding.weight.data.copy_(pretrained_embeddings)"
   ]
  },
  {
   "cell_type": "markdown",
   "metadata": {
    "id": "yAO6zCL9h5zt"
   },
   "source": [
    "因為`<unk>` and `<pad>`是沒有在 pre-trained 的詞裡面，所以要把 `<unk>` 和 `<pad>`的 初始 embedding 權重都變成 0"
   ]
  },
  {
   "cell_type": "code",
   "execution_count": 23,
   "metadata": {
    "colab": {
     "base_uri": "https://localhost:8080/"
    },
    "executionInfo": {
     "elapsed": 1525,
     "status": "ok",
     "timestamp": 1610968413106,
     "user": {
      "displayName": "TJ Huang",
      "photoUrl": "https://lh3.googleusercontent.com/a-/AOh14GhD8ZNogaI1a7JvaPCP0sixRAUqrNuHydZOR0qLPQ=s64",
      "userId": "07122505407861381538"
     },
     "user_tz": -480
    },
    "id": "Dy8PyFGLh5zu",
    "outputId": "41cb035e-cf7c-4cef-a630-e3fa374e6d95"
   },
   "outputs": [
    {
     "name": "stdout",
     "output_type": "stream",
     "text": [
      "tensor([[ 0.0000,  0.0000,  0.0000,  ...,  0.0000,  0.0000,  0.0000],\n",
      "        [ 0.0000,  0.0000,  0.0000,  ...,  0.0000,  0.0000,  0.0000],\n",
      "        [ 0.0000,  0.0000,  0.0000,  ...,  0.0000,  0.0000,  0.0000],\n",
      "        ...,\n",
      "        [-0.7534,  0.5285,  0.0846,  ...,  0.1060,  1.1946,  0.3946],\n",
      "        [ 0.4887, -0.5067, -0.3668,  ..., -0.7558, -0.0531,  0.0707],\n",
      "        [ 0.6262, -1.1699,  0.7505,  ..., -0.2259,  0.2730,  0.7792]])\n"
     ]
    }
   ],
   "source": [
    "UNK_IDX = vocab.stoi[\"<unk>\"]\n",
    "BOS_IDX = vocab.stoi[\"<BOS>\"]\n",
    "EOS_IDX = vocab.stoi[\"<EOS>\"]\n",
    "PAD_IDX = vocab.stoi[\"<PAD>\"]\n",
    "\n",
    "model.embedding.weight.data[UNK_IDX] = torch.zeros(EMBEDDING_DIM)\n",
    "model.embedding.weight.data[BOS_IDX] = torch.zeros(EMBEDDING_DIM)\n",
    "model.embedding.weight.data[EOS_IDX] = torch.zeros(EMBEDDING_DIM)\n",
    "model.embedding.weight.data[PAD_IDX] = torch.zeros(EMBEDDING_DIM)\n",
    "\n",
    "print(model.embedding.weight.data)"
   ]
  },
  {
   "cell_type": "markdown",
   "metadata": {
    "id": "mbublLfuh5zu"
   },
   "source": [
    "We can now see the first two rows of the embedding weights matrix have been set to zeros. As we passed the index of the pad token to the `padding_idx` of the embedding layer it will remain zeros throughout training, however the `<unk>` token embedding will be learned."
   ]
  },
  {
   "cell_type": "markdown",
   "metadata": {
    "id": "mQ3KLo-Bh5zu"
   },
   "source": [
    "## 訓練模型"
   ]
  },
  {
   "cell_type": "markdown",
   "metadata": {
    "id": "ZOyVlzOgh5zu"
   },
   "source": [
    "使用優化器 Adam"
   ]
  },
  {
   "cell_type": "code",
   "execution_count": 24,
   "metadata": {
    "id": "z4pq14aXh5zu"
   },
   "outputs": [],
   "source": [
    "import torch.optim as optim\n",
    "\n",
    "optimizer = optim.Adam(model.parameters())"
   ]
  },
  {
   "cell_type": "markdown",
   "metadata": {
    "id": "fJ-Obpa0h5zu"
   },
   "source": [
    "使用 BCEWithLogitsLoss 當作 Loss Function"
   ]
  },
  {
   "cell_type": "code",
   "execution_count": 25,
   "metadata": {
    "id": "mTqpIgdmh5zu"
   },
   "outputs": [],
   "source": [
    "criterion = nn.BCEWithLogitsLoss()\n",
    "\n",
    "model = model.to(device)\n",
    "criterion = criterion.to(device)"
   ]
  },
  {
   "cell_type": "markdown",
   "metadata": {
    "id": "aj_qyWU1h5zu"
   },
   "source": [
    "實作計算計算準確度的函式\n",
    "\n"
   ]
  },
  {
   "cell_type": "code",
   "execution_count": 26,
   "metadata": {
    "id": "bWMRD9Yfh5zu"
   },
   "outputs": [],
   "source": [
    "def binary_accuracy(preds, y):\n",
    "    \"\"\"\n",
    "    Returns accuracy per batch, i.e. if you get 8/10 right, this returns 0.8, NOT 8\n",
    "    \"\"\"\n",
    "\n",
    "    #round predictions to the closest integer\n",
    "    rounded_preds = torch.round(torch.sigmoid(preds))\n",
    "    correct = (rounded_preds == y).float() #convert into float for division \n",
    "    acc = correct.sum() / len(correct)\n",
    "    return acc"
   ]
  },
  {
   "cell_type": "markdown",
   "metadata": {
    "id": "QF66HLSsh5zu"
   },
   "source": [
    "# 訓練函式"
   ]
  },
  {
   "cell_type": "code",
   "execution_count": 27,
   "metadata": {
    "id": "nYmpftoIh5zu"
   },
   "outputs": [],
   "source": [
    "def train(model, iterator, optimizer, criterion):\n",
    "    epoch_loss = 0\n",
    "    epoch_acc = 0\n",
    "    model.train()\n",
    "    \n",
    "    for batch in iterator:\n",
    "        optimizer.zero_grad()\n",
    "        labels, texts, offsets = batch[0], batch[1], batch[2]\n",
    "        predictions = model(texts, offsets).squeeze(1)\n",
    "    \n",
    "        loss = criterion(predictions, labels.float())\n",
    "        acc = binary_accuracy(predictions, labels)\n",
    "        \n",
    "        loss.backward()\n",
    "        optimizer.step()\n",
    "        \n",
    "        epoch_loss += loss.item()\n",
    "        epoch_acc += acc.item()\n",
    "        \n",
    "    return epoch_loss / len(iterator), epoch_acc / len(iterator)"
   ]
  },
  {
   "cell_type": "markdown",
   "metadata": {
    "id": "NZmY5b9hh5zu"
   },
   "source": [
    "# 測試模型的方法\n"
   ]
  },
  {
   "cell_type": "code",
   "execution_count": 28,
   "metadata": {
    "id": "7i7SLjYoh5zu"
   },
   "outputs": [],
   "source": [
    "def evaluate(model, iterator, criterion):\n",
    "    epoch_loss = 0\n",
    "    epoch_acc = 0\n",
    "    model.eval()\n",
    "    \n",
    "    with torch.no_grad():\n",
    "        for batch in iterator:\n",
    "            labels, texts, offsets = batch[0], batch[1], batch[2]\n",
    "            predictions = model(texts, offsets).squeeze(1)\n",
    "            \n",
    "            loss = criterion(predictions, labels.float())\n",
    "            acc = binary_accuracy(predictions, labels)\n",
    "\n",
    "            epoch_loss += loss.item()\n",
    "            epoch_acc += acc.item()\n",
    "        \n",
    "    return epoch_loss / len(iterator), epoch_acc / len(iterator)"
   ]
  },
  {
   "cell_type": "markdown",
   "metadata": {
    "id": "S1Ygz7V-h5zu"
   },
   "source": [
    "查看訓練進度以及花費的時間"
   ]
  },
  {
   "cell_type": "code",
   "execution_count": 29,
   "metadata": {
    "id": "3iCSdOs8h5zu"
   },
   "outputs": [],
   "source": [
    "import time\n",
    "\n",
    "def epoch_time(start_time, end_time):\n",
    "    elapsed_time = end_time - start_time\n",
    "    elapsed_mins = int(elapsed_time / 60)\n",
    "    elapsed_secs = int(elapsed_time - (elapsed_mins * 60))\n",
    "    return elapsed_mins, elapsed_secs"
   ]
  },
  {
   "cell_type": "markdown",
   "metadata": {
    "id": "bi8X4DTgh5zu"
   },
   "source": [
    "開始訓練"
   ]
  },
  {
   "cell_type": "code",
   "execution_count": 30,
   "metadata": {
    "colab": {
     "base_uri": "https://localhost:8080/"
    },
    "executionInfo": {
     "elapsed": 82595,
     "status": "ok",
     "timestamp": 1610968526544,
     "user": {
      "displayName": "TJ Huang",
      "photoUrl": "https://lh3.googleusercontent.com/a-/AOh14GhD8ZNogaI1a7JvaPCP0sixRAUqrNuHydZOR0qLPQ=s64",
      "userId": "07122505407861381538"
     },
     "user_tz": -480
    },
    "id": "uav7h10Nh5zu",
    "outputId": "107e5859-07ce-4153-fc6d-905bdf074646",
    "scrolled": true
   },
   "outputs": [
    {
     "ename": "KeyboardInterrupt",
     "evalue": "",
     "output_type": "error",
     "traceback": [
      "\u001b[0;31m---------------------------------------------------------------------------\u001b[0m",
      "\u001b[0;31mKeyboardInterrupt\u001b[0m                         Traceback (most recent call last)",
      "\u001b[0;32m<ipython-input-30-7ecfd3b12bf1>\u001b[0m in \u001b[0;36m<module>\u001b[0;34m\u001b[0m\n\u001b[1;32m      7\u001b[0m     \u001b[0mstart_time\u001b[0m \u001b[0;34m=\u001b[0m \u001b[0mtime\u001b[0m\u001b[0;34m.\u001b[0m\u001b[0mtime\u001b[0m\u001b[0;34m(\u001b[0m\u001b[0;34m)\u001b[0m\u001b[0;34m\u001b[0m\u001b[0;34m\u001b[0m\u001b[0m\n\u001b[1;32m      8\u001b[0m \u001b[0;34m\u001b[0m\u001b[0m\n\u001b[0;32m----> 9\u001b[0;31m     \u001b[0mtrain_loss\u001b[0m\u001b[0;34m,\u001b[0m \u001b[0mtrain_acc\u001b[0m \u001b[0;34m=\u001b[0m \u001b[0mtrain\u001b[0m\u001b[0;34m(\u001b[0m\u001b[0mmodel\u001b[0m\u001b[0;34m,\u001b[0m \u001b[0mtrain_dataloader\u001b[0m\u001b[0;34m,\u001b[0m \u001b[0moptimizer\u001b[0m\u001b[0;34m,\u001b[0m \u001b[0mcriterion\u001b[0m\u001b[0;34m)\u001b[0m\u001b[0;34m\u001b[0m\u001b[0;34m\u001b[0m\u001b[0m\n\u001b[0m\u001b[1;32m     10\u001b[0m     \u001b[0mvalid_loss\u001b[0m\u001b[0;34m,\u001b[0m \u001b[0mvalid_acc\u001b[0m \u001b[0;34m=\u001b[0m \u001b[0mevaluate\u001b[0m\u001b[0;34m(\u001b[0m\u001b[0mmodel\u001b[0m\u001b[0;34m,\u001b[0m \u001b[0mvalid_iterator\u001b[0m\u001b[0;34m,\u001b[0m \u001b[0mcriterion\u001b[0m\u001b[0;34m)\u001b[0m\u001b[0;34m\u001b[0m\u001b[0;34m\u001b[0m\u001b[0m\n\u001b[1;32m     11\u001b[0m \u001b[0;34m\u001b[0m\u001b[0m\n",
      "\u001b[0;32m<ipython-input-27-e2f8411f7ab6>\u001b[0m in \u001b[0;36mtrain\u001b[0;34m(model, iterator, optimizer, criterion)\u001b[0m\n\u001b[1;32m     12\u001b[0m         \u001b[0macc\u001b[0m \u001b[0;34m=\u001b[0m \u001b[0mbinary_accuracy\u001b[0m\u001b[0;34m(\u001b[0m\u001b[0mpredictions\u001b[0m\u001b[0;34m,\u001b[0m \u001b[0mlabels\u001b[0m\u001b[0;34m)\u001b[0m\u001b[0;34m\u001b[0m\u001b[0;34m\u001b[0m\u001b[0m\n\u001b[1;32m     13\u001b[0m \u001b[0;34m\u001b[0m\u001b[0m\n\u001b[0;32m---> 14\u001b[0;31m         \u001b[0mloss\u001b[0m\u001b[0;34m.\u001b[0m\u001b[0mbackward\u001b[0m\u001b[0;34m(\u001b[0m\u001b[0;34m)\u001b[0m\u001b[0;34m\u001b[0m\u001b[0;34m\u001b[0m\u001b[0m\n\u001b[0m\u001b[1;32m     15\u001b[0m         \u001b[0moptimizer\u001b[0m\u001b[0;34m.\u001b[0m\u001b[0mstep\u001b[0m\u001b[0;34m(\u001b[0m\u001b[0;34m)\u001b[0m\u001b[0;34m\u001b[0m\u001b[0;34m\u001b[0m\u001b[0m\n\u001b[1;32m     16\u001b[0m \u001b[0;34m\u001b[0m\u001b[0m\n",
      "\u001b[0;32m/opt/anaconda3/lib/python3.8/site-packages/torch/tensor.py\u001b[0m in \u001b[0;36mbackward\u001b[0;34m(self, gradient, retain_graph, create_graph, inputs)\u001b[0m\n\u001b[1;32m    243\u001b[0m                 \u001b[0mcreate_graph\u001b[0m\u001b[0;34m=\u001b[0m\u001b[0mcreate_graph\u001b[0m\u001b[0;34m,\u001b[0m\u001b[0;34m\u001b[0m\u001b[0;34m\u001b[0m\u001b[0m\n\u001b[1;32m    244\u001b[0m                 inputs=inputs)\n\u001b[0;32m--> 245\u001b[0;31m         \u001b[0mtorch\u001b[0m\u001b[0;34m.\u001b[0m\u001b[0mautograd\u001b[0m\u001b[0;34m.\u001b[0m\u001b[0mbackward\u001b[0m\u001b[0;34m(\u001b[0m\u001b[0mself\u001b[0m\u001b[0;34m,\u001b[0m \u001b[0mgradient\u001b[0m\u001b[0;34m,\u001b[0m \u001b[0mretain_graph\u001b[0m\u001b[0;34m,\u001b[0m \u001b[0mcreate_graph\u001b[0m\u001b[0;34m,\u001b[0m \u001b[0minputs\u001b[0m\u001b[0;34m=\u001b[0m\u001b[0minputs\u001b[0m\u001b[0;34m)\u001b[0m\u001b[0;34m\u001b[0m\u001b[0;34m\u001b[0m\u001b[0m\n\u001b[0m\u001b[1;32m    246\u001b[0m \u001b[0;34m\u001b[0m\u001b[0m\n\u001b[1;32m    247\u001b[0m     \u001b[0;32mdef\u001b[0m \u001b[0mregister_hook\u001b[0m\u001b[0;34m(\u001b[0m\u001b[0mself\u001b[0m\u001b[0;34m,\u001b[0m \u001b[0mhook\u001b[0m\u001b[0;34m)\u001b[0m\u001b[0;34m:\u001b[0m\u001b[0;34m\u001b[0m\u001b[0;34m\u001b[0m\u001b[0m\n",
      "\u001b[0;32m/opt/anaconda3/lib/python3.8/site-packages/torch/autograd/__init__.py\u001b[0m in \u001b[0;36mbackward\u001b[0;34m(tensors, grad_tensors, retain_graph, create_graph, grad_variables, inputs)\u001b[0m\n\u001b[1;32m    143\u001b[0m         \u001b[0mretain_graph\u001b[0m \u001b[0;34m=\u001b[0m \u001b[0mcreate_graph\u001b[0m\u001b[0;34m\u001b[0m\u001b[0;34m\u001b[0m\u001b[0m\n\u001b[1;32m    144\u001b[0m \u001b[0;34m\u001b[0m\u001b[0m\n\u001b[0;32m--> 145\u001b[0;31m     Variable._execution_engine.run_backward(\n\u001b[0m\u001b[1;32m    146\u001b[0m         \u001b[0mtensors\u001b[0m\u001b[0;34m,\u001b[0m \u001b[0mgrad_tensors_\u001b[0m\u001b[0;34m,\u001b[0m \u001b[0mretain_graph\u001b[0m\u001b[0;34m,\u001b[0m \u001b[0mcreate_graph\u001b[0m\u001b[0;34m,\u001b[0m \u001b[0minputs\u001b[0m\u001b[0;34m,\u001b[0m\u001b[0;34m\u001b[0m\u001b[0;34m\u001b[0m\u001b[0m\n\u001b[1;32m    147\u001b[0m         allow_unreachable=True, accumulate_grad=True)  # allow_unreachable flag\n",
      "\u001b[0;31mKeyboardInterrupt\u001b[0m: "
     ]
    }
   ],
   "source": [
    "N_EPOCHS = 5\n",
    "\n",
    "best_valid_loss = float('inf')\n",
    "\n",
    "for epoch in range(N_EPOCHS):\n",
    "\n",
    "    start_time = time.time()\n",
    "    \n",
    "    train_loss, train_acc = train(model, train_dataloader, optimizer, criterion)\n",
    "    valid_loss, valid_acc = evaluate(model, valid_iterator, criterion)\n",
    "    \n",
    "    end_time = time.time()\n",
    "\n",
    "    epoch_mins, epoch_secs = epoch_time(start_time, end_time)\n",
    "    \n",
    "    if valid_loss < best_valid_loss:\n",
    "        best_valid_loss = valid_loss\n",
    "        torch.save(model.state_dict(), 'tut2-model.pt')\n",
    "    \n",
    "    print(f'Epoch: {epoch+1:02} | Epoch Time: {epoch_mins}m {epoch_secs}s')\n",
    "    print(f'\\tTrain Loss: {train_loss:.3f} | Train Acc: {train_acc*100:.2f}%')\n",
    "    print(f'\\t Val. Loss: {valid_loss:.3f} |  Val. Acc: {valid_acc*100:.2f}%')"
   ]
  },
  {
   "cell_type": "code",
   "execution_count": null,
   "metadata": {
    "colab": {
     "base_uri": "https://localhost:8080/"
    },
    "executionInfo": {
     "elapsed": 82595,
     "status": "ok",
     "timestamp": 1610968526544,
     "user": {
      "displayName": "TJ Huang",
      "photoUrl": "https://lh3.googleusercontent.com/a-/AOh14GhD8ZNogaI1a7JvaPCP0sixRAUqrNuHydZOR0qLPQ=s64",
      "userId": "07122505407861381538"
     },
     "user_tz": -480
    },
    "id": "uav7h10Nh5zu",
    "outputId": "107e5859-07ce-4153-fc6d-905bdf074646"
   },
   "outputs": [
    {
     "name": "stdout",
     "output_type": "stream",
     "text": [
      "Epoch: 01 | Epoch Time: 0m 16s\n",
      "\tTrain Loss: 0.662 | Train Acc: 60.25%\n",
      "\t Val. Loss: 0.567 |  Val. Acc: 71.12%\n",
      "Epoch: 02 | Epoch Time: 0m 16s\n",
      "\tTrain Loss: 0.617 | Train Acc: 66.29%\n",
      "\t Val. Loss: 0.665 |  Val. Acc: 59.93%\n",
      "Epoch: 03 | Epoch Time: 0m 15s\n",
      "\tTrain Loss: 0.565 | Train Acc: 70.54%\n",
      "\t Val. Loss: 0.642 |  Val. Acc: 64.76%\n",
      "Epoch: 04 | Epoch Time: 0m 16s\n",
      "\tTrain Loss: 0.490 | Train Acc: 77.19%\n",
      "\t Val. Loss: 0.336 |  Val. Acc: 86.33%\n",
      "Epoch: 05 | Epoch Time: 0m 16s\n",
      "\tTrain Loss: 0.320 | Train Acc: 87.02%\n",
      "\t Val. Loss: 0.288 |  Val. Acc: 88.72%\n"
     ]
    }
   ],
   "source": [
    "N_EPOCHS = 5\n",
    "\n",
    "\n",
    "best_valid_loss = float('inf')\n",
    "\n",
    "for epoch in range(N_EPOCHS):\n",
    "\n",
    "    start_time = time.time()\n",
    "    \n",
    "    train_loss, train_acc = train(model, train_iterator, optimizer, criterion)\n",
    "    valid_loss, valid_acc = evaluate(model, valid_iterator, criterion)\n",
    "    \n",
    "    end_time = time.time()\n",
    "\n",
    "    epoch_mins, epoch_secs = epoch_time(start_time, end_time)\n",
    "    \n",
    "    if valid_loss < best_valid_loss:\n",
    "        best_valid_loss = valid_loss\n",
    "        torch.save(model.state_dict(), 'tut2-model.pt')\n",
    "    \n",
    "    print(f'Epoch: {epoch+1:02} | Epoch Time: {epoch_mins}m {epoch_secs}s')\n",
    "    print(f'\\tTrain Loss: {train_loss:.3f} | Train Acc: {train_acc*100:.2f}%')\n",
    "    print(f'\\t Val. Loss: {valid_loss:.3f} |  Val. Acc: {valid_acc*100:.2f}%')"
   ]
  },
  {
   "cell_type": "markdown",
   "metadata": {
    "id": "0Xllf06gh5zu"
   },
   "source": [
    "測試模型的準確度"
   ]
  },
  {
   "cell_type": "code",
   "execution_count": null,
   "metadata": {
    "colab": {
     "base_uri": "https://localhost:8080/"
    },
    "executionInfo": {
     "elapsed": 88744,
     "status": "ok",
     "timestamp": 1610968532699,
     "user": {
      "displayName": "TJ Huang",
      "photoUrl": "https://lh3.googleusercontent.com/a-/AOh14GhD8ZNogaI1a7JvaPCP0sixRAUqrNuHydZOR0qLPQ=s64",
      "userId": "07122505407861381538"
     },
     "user_tz": -480
    },
    "id": "1zrPaGTBh5zu",
    "outputId": "4255c4e4-0942-408d-d7d8-750ac15c1180"
   },
   "outputs": [
    {
     "name": "stdout",
     "output_type": "stream",
     "text": [
      "Test Loss: 0.300 | Test Acc: 87.38%\n"
     ]
    }
   ],
   "source": [
    "model.load_state_dict(torch.load('tut2-model.pt'))\n",
    "\n",
    "test_loss, test_acc = evaluate(model, test_iterator, criterion)\n",
    "\n",
    "print(f'Test Loss: {test_loss:.3f} | Test Acc: {test_acc*100:.2f}%')"
   ]
  },
  {
   "cell_type": "markdown",
   "metadata": {
    "id": "Lo2tHWvLh5zu"
   },
   "source": [
    "## Demo 函式\n",
    "\n",
    "最後我們來建立一個 Demo 的函式讓使用者可以輸入任意的句子來看看模型是否可以正確的做好情緒分類。"
   ]
  },
  {
   "cell_type": "code",
   "execution_count": null,
   "metadata": {
    "id": "N1dQ2jL6h5zu"
   },
   "outputs": [],
   "source": [
    "import spacy\n",
    "nlp = spacy.load('en')\n",
    "\n",
    "def predict_sentiment(model, sentence):\n",
    "    model.eval()\n",
    "    tokenized = [tok.text for tok in nlp.tokenizer(sentence)]\n",
    "    indexed = [TEXT.vocab.stoi[t] for t in tokenized]\n",
    "    length = [len(indexed)]\n",
    "    tensor = torch.LongTensor(indexed).to(device)\n",
    "    tensor = tensor.unsqueeze(1)\n",
    "    length_tensor = torch.LongTensor(length)\n",
    "    prediction = torch.sigmoid(model(tensor, length_tensor))\n",
    "    return prediction.item()"
   ]
  },
  {
   "cell_type": "markdown",
   "metadata": {
    "id": "RNTmEPO2h5zu"
   },
   "source": [
    "# Demo"
   ]
  },
  {
   "cell_type": "code",
   "execution_count": null,
   "metadata": {
    "colab": {
     "base_uri": "https://localhost:8080/"
    },
    "executionInfo": {
     "elapsed": 793,
     "status": "ok",
     "timestamp": 1610968721048,
     "user": {
      "displayName": "TJ Huang",
      "photoUrl": "https://lh3.googleusercontent.com/a-/AOh14GhD8ZNogaI1a7JvaPCP0sixRAUqrNuHydZOR0qLPQ=s64",
      "userId": "07122505407861381538"
     },
     "user_tz": -480
    },
    "id": "VdyUrek4h5zu",
    "outputId": "d5ddca54-02a5-4042-a299-47f260e72c36"
   },
   "outputs": [
    {
     "name": "stdout",
     "output_type": "stream",
     "text": [
      "This film is bad --> Negtive\n",
      "This film is good --> Positive\n"
     ]
    }
   ],
   "source": [
    "sentences = [\"This film is bad\", \"This film is good\"]\n",
    "for sentence in sentences:\n",
    "    if predict_sentiment(model, sentence) > 0.5:\n",
    "        print(\"{} --> Positive\".format(sentence))\n",
    "    else:\n",
    "        print(\"{} --> Negtive\".format(sentence))"
   ]
  },
  {
   "cell_type": "markdown",
   "metadata": {
    "id": "ByB6QdaFh5zu"
   },
   "source": [
    "## 參考資料\n",
    "\n",
    "torchtext 入門\n",
    "\n",
    "https://zhuanlan.zhihu.com/p/31139113"
   ]
  }
 ],
 "metadata": {
  "accelerator": "GPU",
  "colab": {
   "collapsed_sections": [],
   "name": "作業_IMDB_RNN.ipynb",
   "provenance": [],
   "toc_visible": true
  },
  "kernelspec": {
   "display_name": "Python 3",
   "language": "python",
   "name": "python3"
  },
  "language_info": {
   "codemirror_mode": {
    "name": "ipython",
    "version": 3
   },
   "file_extension": ".py",
   "mimetype": "text/x-python",
   "name": "python",
   "nbconvert_exporter": "python",
   "pygments_lexer": "ipython3",
   "version": "3.8.3"
  }
 },
 "nbformat": 4,
 "nbformat_minor": 1
}
