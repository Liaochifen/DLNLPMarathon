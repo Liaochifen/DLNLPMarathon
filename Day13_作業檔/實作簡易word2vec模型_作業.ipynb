{
 "cells": [
  {
   "cell_type": "markdown",
   "metadata": {},
   "source": [
    "### 作業目的: 實作word2vec Skip-gram模型\n",
    "在課程中了解如何搭建CBOW模型，這次的作業目的在於透過搭建Skip-gram模型來了解另外一種word2vec的架構。\n",
    "\n",
    "Hint_1: 學員可以善用課程中以搭建好的function模組\n",
    "\n",
    "Hint_2: Skip_gram所需的輸入資料與目標跟CBOW有些許不同，Skip_gram是由中間字詞預測上下文"
   ]
  },
  {
   "cell_type": "code",
   "execution_count": 1,
   "metadata": {},
   "outputs": [],
   "source": [
    "import numpy as np\n",
    "from typing import List\n",
    "from utils.utility import clip_grads, convert_one_hot, preprocess, Trainer\n",
    "from utils.layers import Dense, SoftmaxWithCrossEntropy\n",
    "from utils.optimizer import SGD"
   ]
  },
  {
   "cell_type": "code",
   "execution_count": 2,
   "metadata": {},
   "outputs": [
    {
     "data": {
      "text/plain": [
       "(array([4, 0, 5, 7, 1, 2]),\n",
       " array([[6, 0],\n",
       "        [4, 5],\n",
       "        [0, 7],\n",
       "        [5, 1],\n",
       "        [7, 2],\n",
       "        [1, 3]]))"
      ]
     },
     "execution_count": 2,
     "metadata": {},
     "output_type": "execute_result"
    }
   ],
   "source": [
    "# use the same corpus as in the lecture\n",
    "text = \"I am studying Natural Language Processing now.\"\n",
    "\n",
    "# define create_contexts_target function\n",
    "def create_contexts_target(corpus: List, window_size: int=1):\n",
    "    contexts = []\n",
    "    targets = []\n",
    "    for i in range(window_size, len(corpus)-window_size):\n",
    "        target = []\n",
    "        for window_idx in range(i-window_size, i+window_size+1):\n",
    "            if window_idx == i:\n",
    "                contexts.append(corpus[window_idx])\n",
    "            else:\n",
    "                target.append(corpus[window_idx])\n",
    "        targets.append(target)\n",
    "    \n",
    "    return np.array(contexts), np.array(targets)\n",
    "\n",
    "# transform corpus to contexts and targets pair\n",
    "corpus, word2idx, idx2word = preprocess([text])\n",
    "contexts, targets= create_contexts_target(corpus[0], window_size=1)\n",
    "contexts, targets"
   ]
  },
  {
   "cell_type": "code",
   "execution_count": 3,
   "metadata": {
    "scrolled": true
   },
   "outputs": [
    {
     "data": {
      "text/plain": [
       "(array([[0, 0, 0, 0, 1, 0, 0, 0],\n",
       "        [1, 0, 0, 0, 0, 0, 0, 0],\n",
       "        [0, 0, 0, 0, 0, 1, 0, 0],\n",
       "        [0, 0, 0, 0, 0, 0, 0, 1],\n",
       "        [0, 1, 0, 0, 0, 0, 0, 0],\n",
       "        [0, 0, 1, 0, 0, 0, 0, 0]], dtype=int32),\n",
       " array([[[0, 0, 0, 0, 0, 0, 1, 0],\n",
       "         [1, 0, 0, 0, 0, 0, 0, 0]],\n",
       " \n",
       "        [[0, 0, 0, 0, 1, 0, 0, 0],\n",
       "         [0, 0, 0, 0, 0, 1, 0, 0]],\n",
       " \n",
       "        [[1, 0, 0, 0, 0, 0, 0, 0],\n",
       "         [0, 0, 0, 0, 0, 0, 0, 1]],\n",
       " \n",
       "        [[0, 0, 0, 0, 0, 1, 0, 0],\n",
       "         [0, 1, 0, 0, 0, 0, 0, 0]],\n",
       " \n",
       "        [[0, 0, 0, 0, 0, 0, 0, 1],\n",
       "         [0, 0, 1, 0, 0, 0, 0, 0]],\n",
       " \n",
       "        [[0, 1, 0, 0, 0, 0, 0, 0],\n",
       "         [0, 0, 0, 1, 0, 0, 0, 0]]], dtype=int32))"
      ]
     },
     "execution_count": 3,
     "metadata": {},
     "output_type": "execute_result"
    }
   ],
   "source": [
    "contexts = convert_one_hot(contexts, len(word2idx))\n",
    "targets = convert_one_hot(targets, len(word2idx))\n",
    "contexts, targets"
   ]
  },
  {
   "cell_type": "code",
   "execution_count": 4,
   "metadata": {},
   "outputs": [],
   "source": [
    "# define Skip-gram model\n",
    "class SkipGram:\n",
    "    def __init__(self, vocab_size, hidden_size, window_size):\n",
    "        V, H = vocab_size, hidden_size\n",
    "        self.window_size = window_size\n",
    "\n",
    "        # initialize weights\n",
    "        W_in = 0.01 * np.random.randn(V, H)\n",
    "        W_out = 0.01 * np.random.randn(H, V)\n",
    "\n",
    "        # create layers\n",
    "        self.in_layer = Dense(W_in)\n",
    "        self.out_layer = Dense(W_out)\n",
    "        self.loss_layers = [SoftmaxWithCrossEntropy() for _ in range(window_size*2)]\n",
    "        \n",
    "        layers = [self.in_layer] + [self.out_layer]\n",
    "        self.params, self.grads = [], []\n",
    "        for layer in layers:\n",
    "            self.params += layer.params\n",
    "            self.grads += layer.grads\n",
    "        \n",
    "        # word vector matrix\n",
    "        self.word_vecs = W_in\n",
    "\n",
    "    def forward(self, contexts, targets):\n",
    "        h = self.in_layer.forward(contexts)\n",
    "        s = self.out_layer.forward(h)\n",
    "        loss = sum(self.loss_layers[i].forward(s, targets[:, i]) for i in range(self.window_size*2))\n",
    "        \n",
    "        return loss\n",
    "\n",
    "    def backward(self, dout=1):\n",
    "        ds = sum([self.loss_layers[i].backward(dout) for i in range(self.window_size*2)])        \n",
    "        dh = self.out_layer.backward(ds)\n",
    "        self.in_layer.backward(dh)\n",
    "        \n",
    "        return None"
   ]
  },
  {
   "cell_type": "code",
   "execution_count": 18,
   "metadata": {
    "scrolled": true
   },
   "outputs": [
    {
     "data": {
      "application/vnd.jupyter.widget-view+json": {
       "model_id": "a34fbd9999f442819221fe5056f1fe1a",
       "version_major": 2,
       "version_minor": 0
      },
      "text/plain": [
       "HBox(children=(FloatProgress(value=0.0), HTML(value='')))"
      ]
     },
     "metadata": {},
     "output_type": "display_data"
    },
    {
     "name": "stdout",
     "output_type": "stream",
     "text": [
      "Epoch: 1, Iteration: 1/2, Loss: 4.159245435372897\n",
      "Epoch: 2, Iteration: 1/2, Loss: 4.15885126453887\n",
      "Epoch: 3, Iteration: 1/2, Loss: 4.158826254466884\n",
      "Epoch: 4, Iteration: 1/2, Loss: 4.158718431738586\n",
      "Epoch: 5, Iteration: 1/2, Loss: 4.158491673942704\n",
      "Epoch: 6, Iteration: 1/2, Loss: 4.158322508568119\n",
      "Epoch: 7, Iteration: 1/2, Loss: 4.158232824394959\n",
      "Epoch: 8, Iteration: 1/2, Loss: 4.157680383352707\n",
      "Epoch: 9, Iteration: 1/2, Loss: 4.158088390716691\n",
      "Epoch: 10, Iteration: 1/2, Loss: 4.156872489204532\n",
      "Epoch: 11, Iteration: 1/2, Loss: 4.155922139345007\n",
      "Epoch: 12, Iteration: 1/2, Loss: 4.156574449514702\n",
      "Epoch: 13, Iteration: 1/2, Loss: 4.154011933190802\n",
      "Epoch: 14, Iteration: 1/2, Loss: 4.152666426550168\n",
      "Epoch: 15, Iteration: 1/2, Loss: 4.150577936095785\n",
      "Epoch: 16, Iteration: 1/2, Loss: 4.147556543995401\n",
      "Epoch: 17, Iteration: 1/2, Loss: 4.142480758367347\n",
      "Epoch: 18, Iteration: 1/2, Loss: 4.139637396517363\n",
      "Epoch: 19, Iteration: 1/2, Loss: 4.1298659691714565\n",
      "Epoch: 20, Iteration: 1/2, Loss: 4.111157343397906\n",
      "Epoch: 21, Iteration: 1/2, Loss: 4.119933289695863\n",
      "Epoch: 22, Iteration: 1/2, Loss: 4.074978992184616\n",
      "Epoch: 23, Iteration: 1/2, Loss: 4.044406755225495\n",
      "Epoch: 24, Iteration: 1/2, Loss: 4.047899231765039\n",
      "Epoch: 25, Iteration: 1/2, Loss: 3.9274908574018967\n",
      "Epoch: 26, Iteration: 1/2, Loss: 3.910249762455921\n",
      "Epoch: 27, Iteration: 1/2, Loss: 3.8217879294145356\n",
      "Epoch: 28, Iteration: 1/2, Loss: 3.804931707201876\n",
      "Epoch: 29, Iteration: 1/2, Loss: 3.528132302249416\n",
      "Epoch: 30, Iteration: 1/2, Loss: 3.5066070788082144\n",
      "Epoch: 31, Iteration: 1/2, Loss: 3.3368396114327386\n",
      "Epoch: 32, Iteration: 1/2, Loss: 3.282680719163346\n",
      "Epoch: 33, Iteration: 1/2, Loss: 3.052590702567648\n",
      "Epoch: 34, Iteration: 1/2, Loss: 2.8054588891351386\n",
      "Epoch: 35, Iteration: 1/2, Loss: 2.9205114464894\n",
      "Epoch: 36, Iteration: 1/2, Loss: 2.5023385950080597\n",
      "Epoch: 37, Iteration: 1/2, Loss: 2.5772587274764747\n",
      "Epoch: 38, Iteration: 1/2, Loss: 2.4771913714319798\n",
      "Epoch: 39, Iteration: 1/2, Loss: 2.5255734971221293\n",
      "Epoch: 40, Iteration: 1/2, Loss: 2.1258746672542\n",
      "Epoch: 41, Iteration: 1/2, Loss: 2.2045295708044823\n",
      "Epoch: 42, Iteration: 1/2, Loss: 2.251234620162018\n",
      "Epoch: 43, Iteration: 1/2, Loss: 2.0503384985073447\n",
      "Epoch: 44, Iteration: 1/2, Loss: 1.9409888178381847\n",
      "Epoch: 45, Iteration: 1/2, Loss: 1.9429816915334546\n",
      "Epoch: 46, Iteration: 1/2, Loss: 1.8413915993785306\n",
      "Epoch: 47, Iteration: 1/2, Loss: 1.756897780848678\n",
      "Epoch: 48, Iteration: 1/2, Loss: 1.7472302874527\n",
      "Epoch: 49, Iteration: 1/2, Loss: 1.73489886455856\n",
      "Epoch: 50, Iteration: 1/2, Loss: 1.706412899542475\n",
      "Epoch: 51, Iteration: 1/2, Loss: 1.6647063681221148\n",
      "Epoch: 52, Iteration: 1/2, Loss: 1.6235513554924932\n",
      "Epoch: 53, Iteration: 1/2, Loss: 1.6427148983109536\n",
      "Epoch: 54, Iteration: 1/2, Loss: 1.5758522906472008\n",
      "Epoch: 55, Iteration: 1/2, Loss: 1.5880063558451363\n",
      "Epoch: 56, Iteration: 1/2, Loss: 1.5528907462474657\n",
      "Epoch: 57, Iteration: 1/2, Loss: 1.5608362191471075\n",
      "Epoch: 58, Iteration: 1/2, Loss: 1.5468756810025932\n",
      "Epoch: 59, Iteration: 1/2, Loss: 1.504924206240184\n",
      "Epoch: 60, Iteration: 1/2, Loss: 1.5197469181928995\n",
      "Epoch: 61, Iteration: 1/2, Loss: 1.5088379521887374\n",
      "Epoch: 62, Iteration: 1/2, Loss: 1.4982339734017458\n",
      "Epoch: 63, Iteration: 1/2, Loss: 1.5046645044883544\n",
      "Epoch: 64, Iteration: 1/2, Loss: 1.496253325216023\n",
      "Epoch: 65, Iteration: 1/2, Loss: 1.4792351728714548\n",
      "Epoch: 66, Iteration: 1/2, Loss: 1.4721988677147926\n",
      "Epoch: 67, Iteration: 1/2, Loss: 1.4807030019807175\n",
      "Epoch: 68, Iteration: 1/2, Loss: 1.461499678624878\n",
      "Epoch: 69, Iteration: 1/2, Loss: 1.4609966231033462\n",
      "Epoch: 70, Iteration: 1/2, Loss: 1.464299328759231\n",
      "Epoch: 71, Iteration: 1/2, Loss: 1.4600532027738287\n",
      "Epoch: 72, Iteration: 1/2, Loss: 1.451249721071466\n",
      "Epoch: 73, Iteration: 1/2, Loss: 1.451644243248731\n",
      "Epoch: 74, Iteration: 1/2, Loss: 1.447651779086288\n",
      "Epoch: 75, Iteration: 1/2, Loss: 1.4411516298508686\n",
      "Epoch: 76, Iteration: 1/2, Loss: 1.4507809627913666\n",
      "Epoch: 77, Iteration: 1/2, Loss: 1.448427158382037\n",
      "Epoch: 78, Iteration: 1/2, Loss: 1.432675616761987\n",
      "Epoch: 79, Iteration: 1/2, Loss: 1.440783025466411\n",
      "Epoch: 80, Iteration: 1/2, Loss: 1.439808287418451\n",
      "Epoch: 81, Iteration: 1/2, Loss: 1.4257096919024175\n",
      "Epoch: 82, Iteration: 1/2, Loss: 1.4326439061292309\n",
      "Epoch: 83, Iteration: 1/2, Loss: 1.4349020535144466\n",
      "Epoch: 84, Iteration: 1/2, Loss: 1.4304925530634396\n",
      "Epoch: 85, Iteration: 1/2, Loss: 1.428309214653509\n",
      "Epoch: 86, Iteration: 1/2, Loss: 1.4249047803720118\n",
      "Epoch: 87, Iteration: 1/2, Loss: 1.4294888163498967\n",
      "Epoch: 88, Iteration: 1/2, Loss: 1.421591724154413\n",
      "Epoch: 89, Iteration: 1/2, Loss: 1.4307911404884843\n",
      "Epoch: 90, Iteration: 1/2, Loss: 1.42013586081563\n",
      "Epoch: 91, Iteration: 1/2, Loss: 1.420840587603883\n",
      "Epoch: 92, Iteration: 1/2, Loss: 1.4216654547060252\n",
      "Epoch: 93, Iteration: 1/2, Loss: 1.4201046909324817\n",
      "Epoch: 94, Iteration: 1/2, Loss: 1.4168933166061197\n",
      "Epoch: 95, Iteration: 1/2, Loss: 1.4234355295849026\n",
      "Epoch: 96, Iteration: 1/2, Loss: 1.414864461941319\n",
      "Epoch: 97, Iteration: 1/2, Loss: 1.4170592216138285\n",
      "Epoch: 98, Iteration: 1/2, Loss: 1.4160190682842726\n",
      "Epoch: 99, Iteration: 1/2, Loss: 1.4159723866631517\n",
      "Epoch: 100, Iteration: 1/2, Loss: 1.414618452529686\n",
      "\n"
     ]
    }
   ],
   "source": [
    "# start training\n",
    "\n",
    "# configurations\n",
    "window_size = 1\n",
    "hidden_size = 5\n",
    "batch_size = 3\n",
    "max_epoch = 100\n",
    "\n",
    "# define model\n",
    "skip_gram = SkipGram(vocab_size=len(word2idx), hidden_size=hidden_size, window_size=window_size)\n",
    "sgd_optimizer = SGD(lr=0.3)\n",
    "trainer = Trainer(skip_gram, sgd_optimizer)\n",
    "\n",
    "# start training\n",
    "trainer.fit(contexts, targets, max_epoch, batch_size)"
   ]
  },
  {
   "cell_type": "code",
   "execution_count": 19,
   "metadata": {},
   "outputs": [
    {
     "data": {
      "image/png": "[encoded data removed]",
      "text/plain": [
       "<Figure size 432x288 with 1 Axes>"
      ]
     },
     "metadata": {
      "needs_background": "light"
     },
     "output_type": "display_data"
    }
   ],
   "source": [
    "trainer.plot()"
   ]
  },
  {
   "cell_type": "code",
   "execution_count": 24,
   "metadata": {},
   "outputs": [
    {
     "name": "stdout",
     "output_type": "stream",
     "text": [
      "studying [ 1.23260974  0.6288586   1.75522824  0.83562001 -0.22364321]\n",
      "processing [ 0.70254596 -1.92419633 -0.12475688 -1.05021316 -0.68081025]\n",
      "now [-0.38824749  1.34299013 -1.34498135 -1.43941457  0.04434742]\n",
      ". [ 0.01282212  0.00487877 -0.00443999 -0.00443187 -0.00588578]\n",
      "am [-1.72722125 -0.15517693 -0.58284009  1.55067952  0.32371988]\n",
      "natural [-0.34960502 -2.34263191 -0.28577004  1.03851801  0.51915119]\n",
      "i [ 0.01064592  0.00030154  0.01136268 -0.00623846 -0.00169445]\n",
      "language [ 1.07057911  1.89610246  0.81814672 -1.28647934  0.1229081 ]\n"
     ]
    }
   ],
   "source": [
    "for word, idx in word2idx.items():\n",
    "    print(word, skip_gram.word_vecs[idx])"
   ]
  }
 ],
 "metadata": {
  "kernelspec": {
   "display_name": "Python 3",
   "language": "python",
   "name": "python3"
  },
  "language_info": {
   "codemirror_mode": {
    "name": "ipython",
    "version": 3
   },
   "file_extension": ".py",
   "mimetype": "text/x-python",
   "name": "python",
   "nbconvert_exporter": "python",
   "pygments_lexer": "ipython3",
   "version": "3.8.3"
  }
 },
 "nbformat": 4,
 "nbformat_minor": 2
}
