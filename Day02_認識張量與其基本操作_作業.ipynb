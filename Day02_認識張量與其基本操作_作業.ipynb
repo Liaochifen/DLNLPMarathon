{
 "cells": [
  {
   "cell_type": "markdown",
   "metadata": {},
   "source": [
    "### 作業目的: 更加熟習pytorch的tensor操作\n",
    "\n",
    "pytorch中有提供很多的API，讓使用者針對tensor進行各式各樣的操作，本次的作業希望讀者由pytorch的[官方網站](https://pytorch.org/docs/stable/torch.html)中選定四個針對tensor操作的API，對他的使用方法進行範例操作演練。"
   ]
  },
  {
   "cell_type": "markdown",
   "metadata": {},
   "source": [
    "### 選定的API 函數\n",
    "\n",
    "**請寫下選定的API functions**\n",
    "\n",
    "ex:\n",
    "* torch.from_array() / tensor.numpy()\n",
    "* torch.unsqueeze() / torch.squeeze()\n",
    "* tensor.transpose() / tensor.permute()\n",
    "* torch.reshape() / tensor.view()"
   ]
  },
  {
   "cell_type": "code",
   "execution_count": 1,
   "metadata": {},
   "outputs": [],
   "source": [
    "# Import torch and other required modules\n",
    "import torch\n",
    "import numpy as np"
   ]
  },
  {
   "cell_type": "markdown",
   "metadata": {},
   "source": [
    "### 範例:\n",
    "### Function 1 - torch.from_array() / tensor.numpy()"
   ]
  },
  {
   "cell_type": "code",
   "execution_count": 2,
   "metadata": {},
   "outputs": [
    {
     "name": "stdout",
     "output_type": "stream",
     "text": [
      "a: <class 'numpy.ndarray'>, float64\n",
      "b: <class 'torch.Tensor'>, torch.float64\n",
      "c: <class 'torch.Tensor'>, torch.float64\n",
      "d: <class 'numpy.ndarray'>, float64\n"
     ]
    }
   ],
   "source": [
    "# Example 1 - 將torch tensor與numpy ndarray互相轉換\n",
    "a = np.random.rand(1,2,3,3)\n",
    "print(f'a: {type(a)}, {a.dtype}')\n",
    "b = torch.from_numpy(a)\n",
    "print(f'b: {type(b)}, {b.dtype}')\n",
    "c = torch.tensor(a)\n",
    "print(f'c: {type(c)}, {c.dtype}')\n",
    "d = c.numpy()\n",
    "print(f'd: {type(d)}, {d.dtype}')"
   ]
  },
  {
   "cell_type": "code",
   "execution_count": 4,
   "metadata": {},
   "outputs": [
    {
     "name": "stdout",
     "output_type": "stream",
     "text": [
      "a: <class 'numpy.ndarray'>, int64\n",
      "b: <class 'torch.Tensor'>, torch.int64\n",
      "c: <class 'torch.Tensor'>, torch.int64\n",
      "d: <class 'numpy.ndarray'>, int64\n"
     ]
    }
   ],
   "source": [
    "# Example 2 - 經過轉換後，torch tensor與numpy array依然有相近的資料型態\n",
    "a = np.random.randint(low=0, high=10, size=(2,2))\n",
    "print(f'a: {type(a)}, {a.dtype}')\n",
    "b = torch.from_numpy(a)\n",
    "print(f'b: {type(b)}, {b.dtype}')\n",
    "c = torch.tensor(a)\n",
    "print(f'c: {type(c)}, {c.dtype}')\n",
    "d = c.numpy()\n",
    "print(f'd: {type(d)}, {d.dtype}')"
   ]
  },
  {
   "cell_type": "markdown",
   "metadata": {},
   "source": [
    "### Function 2 - torch.unsqueeze() / torch.squeeze()"
   ]
  },
  {
   "cell_type": "code",
   "execution_count": 104,
   "metadata": {},
   "outputs": [
    {
     "name": "stdout",
     "output_type": "stream",
     "text": [
      "torch.Size([3, 1, 2])\n",
      "tensor([[[4, 0]],\n",
      "\n",
      "        [[3, 4]],\n",
      "\n",
      "        [[1, 3]]])\n",
      "-------------------------\n",
      "torch.Size([3, 1, 2, 1])\n",
      "tensor([[[[4],\n",
      "          [0]]],\n",
      "\n",
      "\n",
      "        [[[3],\n",
      "          [4]]],\n",
      "\n",
      "\n",
      "        [[[1],\n",
      "          [3]]]])\n"
     ]
    }
   ],
   "source": [
    "# Example 1\n",
    "a = torch.randint(5, size=(3,1,2))\n",
    "print(a.shape)\n",
    "print(a)\n",
    "print(\"-\" * 25)\n",
    "b = torch.unsqueeze(a, dim=-1)\n",
    "print(b.shape)\n",
    "print(b)"
   ]
  },
  {
   "cell_type": "code",
   "execution_count": 105,
   "metadata": {},
   "outputs": [
    {
     "name": "stdout",
     "output_type": "stream",
     "text": [
      "torch.Size([3, 2])\n",
      "tensor([[4, 0],\n",
      "        [3, 4],\n",
      "        [1, 3]])\n"
     ]
    }
   ],
   "source": [
    "# Example 2\n",
    "c = torch.squeeze(a)\n",
    "print(c.shape)\n",
    "print(c)"
   ]
  },
  {
   "cell_type": "markdown",
   "metadata": {},
   "source": [
    "### Function 3 - torch.unsqueeze() / torch.squeeze()"
   ]
  },
  {
   "cell_type": "code",
   "execution_count": 106,
   "metadata": {
    "scrolled": true
   },
   "outputs": [
    {
     "name": "stdout",
     "output_type": "stream",
     "text": [
      "torch.Size([3, 2, 4])\n",
      "tensor([[[-0.4046, -0.5239,  0.0899, -1.0204],\n",
      "         [-0.1899, -1.8733,  0.8128, -0.8176]],\n",
      "\n",
      "        [[ 1.2240, -1.0576,  0.0716,  0.0999],\n",
      "         [-0.5310,  1.2386,  0.2477,  1.2607]],\n",
      "\n",
      "        [[ 0.6974, -0.2596,  2.1029,  0.1638],\n",
      "         [-0.9287, -1.1170,  0.5979,  1.5543]]])\n",
      "-------------------------------------------------------\n",
      "torch.Size([2, 3, 4])\n",
      "tensor([[[-0.4046, -0.5239,  0.0899, -1.0204],\n",
      "         [ 1.2240, -1.0576,  0.0716,  0.0999],\n",
      "         [ 0.6974, -0.2596,  2.1029,  0.1638]],\n",
      "\n",
      "        [[-0.1899, -1.8733,  0.8128, -0.8176],\n",
      "         [-0.5310,  1.2386,  0.2477,  1.2607],\n",
      "         [-0.9287, -1.1170,  0.5979,  1.5543]]])\n"
     ]
    }
   ],
   "source": [
    "# Example 1\n",
    "a = torch.randn((3, 2, 4))\n",
    "print(a.shape)\n",
    "print(a)\n",
    "print(\"-\" * 55)\n",
    "b = a.transpose(0,1)\n",
    "print(b.shape)\n",
    "print(b)"
   ]
  },
  {
   "cell_type": "code",
   "execution_count": 107,
   "metadata": {},
   "outputs": [
    {
     "name": "stdout",
     "output_type": "stream",
     "text": [
      "torch.Size([4, 3, 2])\n",
      "tensor([[[-0.4046, -0.1899],\n",
      "         [ 1.2240, -0.5310],\n",
      "         [ 0.6974, -0.9287]],\n",
      "\n",
      "        [[-0.5239, -1.8733],\n",
      "         [-1.0576,  1.2386],\n",
      "         [-0.2596, -1.1170]],\n",
      "\n",
      "        [[ 0.0899,  0.8128],\n",
      "         [ 0.0716,  0.2477],\n",
      "         [ 2.1029,  0.5979]],\n",
      "\n",
      "        [[-1.0204, -0.8176],\n",
      "         [ 0.0999,  1.2607],\n",
      "         [ 0.1638,  1.5543]]])\n"
     ]
    }
   ],
   "source": [
    "# Example 2\n",
    "c = a.permute(2,0,1)\n",
    "print(c.shape)\n",
    "print(c)"
   ]
  },
  {
   "cell_type": "markdown",
   "metadata": {},
   "source": [
    "### Function 4 - tensor.reshape() / tensor.view()"
   ]
  },
  {
   "cell_type": "code",
   "execution_count": 109,
   "metadata": {},
   "outputs": [
    {
     "name": "stdout",
     "output_type": "stream",
     "text": [
      "torch.Size([2, 3, 4])\n",
      "tensor([[[0, 1, 4, 8],\n",
      "         [5, 5, 9, 6],\n",
      "         [4, 9, 6, 4]],\n",
      "\n",
      "        [[5, 7, 8, 8],\n",
      "         [8, 8, 8, 6],\n",
      "         [1, 9, 8, 9]]])\n",
      "-------------------------\n",
      "torch.Size([2, 3, 2, 2])\n",
      "tensor([[[[0, 1],\n",
      "          [4, 8]],\n",
      "\n",
      "         [[5, 5],\n",
      "          [9, 6]],\n",
      "\n",
      "         [[4, 9],\n",
      "          [6, 4]]],\n",
      "\n",
      "\n",
      "        [[[5, 7],\n",
      "          [8, 8]],\n",
      "\n",
      "         [[8, 8],\n",
      "          [8, 6]],\n",
      "\n",
      "         [[1, 9],\n",
      "          [8, 9]]]])\n"
     ]
    }
   ],
   "source": [
    "# Example 1\n",
    "a = torch.randint(10, size=(2, 3, 4))\n",
    "print(a.shape)\n",
    "print(a)\n",
    "print(\"-\" * 25)\n",
    "b = a.reshape((2,3,2,2))\n",
    "print(b.shape)\n",
    "print(b)"
   ]
  },
  {
   "cell_type": "code",
   "execution_count": 110,
   "metadata": {},
   "outputs": [
    {
     "name": "stdout",
     "output_type": "stream",
     "text": [
      "torch.Size([2, 12])\n",
      "tensor([[0, 1, 4, 8, 5, 5, 9, 6, 4, 9, 6, 4],\n",
      "        [5, 7, 8, 8, 8, 8, 8, 6, 1, 9, 8, 9]])\n"
     ]
    }
   ],
   "source": [
    "# Example 2\n",
    "c = a.view((2,-1))\n",
    "print(c.shape)\n",
    "print(c)"
   ]
  }
 ],
 "metadata": {
  "kernelspec": {
   "display_name": "Python 3",
   "language": "python",
   "name": "python3"
  },
  "language_info": {
   "codemirror_mode": {
    "name": "ipython",
    "version": 3
   },
   "file_extension": ".py",
   "mimetype": "text/x-python",
   "name": "python",
   "nbconvert_exporter": "python",
   "pygments_lexer": "ipython3",
   "version": "3.8.3"
  }
 },
 "nbformat": 4,
 "nbformat_minor": 2
}
