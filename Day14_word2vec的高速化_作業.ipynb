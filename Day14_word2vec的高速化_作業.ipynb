{
 "cells": [
  {
   "cell_type": "markdown",
   "metadata": {},
   "source": [
    "### 作業目的: 更加了解word2vec高速化\n",
    "本次作業主要是幫同學更熟悉與了解透過各項技巧來加速word2vec的原理，同學可以參考章節講義來回答下列問題。"
   ]
  },
  {
   "cell_type": "markdown",
   "metadata": {},
   "source": [
    "### Q1 - 請問word2vec原本的設計有何問題以及可以怎麼對相對應的問題做改善?\n",
    "\n",
    "\n",
    "Answer:\n",
    "    1. 詞彙量變大時，使用 one-hot encoding 會需要大量記憶體空間 \n",
    "    2. 矩陣膨脹快速使計算成本提高\n",
    "    3. 在輸出層經過 softmax 時需要計算所有詞彙的機率\n",
    "    \n",
    "    問題 1. 與問題 2. 可以藉由 index 作為輸入與輸出層的 input 避免浪費記憶體空間與矩陣膨脹\n",
    "    問題 3. 可以藉由 Hierarchical Softmax 或 Negative Sampling 的方式解決"
   ]
  },
  {
   "cell_type": "markdown",
   "metadata": {},
   "source": [
    "### Q2 - 請問在Negative Sampling中的次方係數，會如何影響字詞的抽取?\n",
    "Hint: 如何影響高頻詞與低頻詞的抽取機率\n",
    "\n",
    "Answer:\n",
    "    次方係數愈大，低頻詞與高頻詞的比值愈低，低頻詞較不容易被選中；次方係數愈小，低頻詞與高頻詞的比值愈高，低頻詞較容易被選中。"
   ]
  }
 ],
 "metadata": {
  "kernelspec": {
   "display_name": "Python 3",
   "language": "python",
   "name": "python3"
  },
  "language_info": {
   "codemirror_mode": {
    "name": "ipython",
    "version": 3
   },
   "file_extension": ".py",
   "mimetype": "text/x-python",
   "name": "python",
   "nbconvert_exporter": "python",
   "pygments_lexer": "ipython3",
   "version": "3.8.3"
  }
 },
 "nbformat": 4,
 "nbformat_minor": 2
}
